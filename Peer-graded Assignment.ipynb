{
  "metadata": {
    "language_info": {
      "codemirror_mode": {
        "name": "python",
        "version": 3
      },
      "file_extension": ".py",
      "mimetype": "text/x-python",
      "name": "python",
      "nbconvert_exporter": "python",
      "pygments_lexer": "ipython3",
      "version": "3.8"
    },
    "kernelspec": {
      "name": "python",
      "display_name": "Pyolite",
      "language": "python"
    }
  },
  "nbformat_minor": 4,
  "nbformat": 4,
  "cells": [
    {
      "cell_type": "markdown",
      "source": "<center>\n    <img src=\"https://s3-api.us-geo.objectstorage.softlayer.net/cf-courses-data/CognitiveClass/Logos/organization_logo/organization_logo.png\" width=\"300\" alt=\"cognitiveclass.ai logo\"  />\n</center>",
      "metadata": {}
    },
    {
      "cell_type": "markdown",
      "source": "# My Jupyter Notebook on IBM Watson Studio",
      "metadata": {}
    },
    {
      "cell_type": "markdown",
      "source": "### My name is Eslam Reda Mohamed\n        I want to be a datascientest",
      "metadata": {}
    },
    {
      "cell_type": "markdown",
      "source": "\n <dt>I'am interested in data science because it will be mien component in technology in the future and help many fields</dt>\n",
      "metadata": {}
    },
    {
      "cell_type": "markdown",
      "source": "### Sum two numbers",
      "metadata": {}
    },
    {
      "cell_type": "code",
      "source": "num1 =2\nnum2 =10\nprint(num1 + num2)",
      "metadata": {
        "trusted": true
      },
      "execution_count": 1,
      "outputs": [
        {
          "name": "stdout",
          "text": "12\n",
          "output_type": "stream"
        }
      ]
    },
    {
      "cell_type": "markdown",
      "source": "<a href=\"https://www.linkedin.com/in/eslamreda/\">My linked in</a> \n---\n\n<a href=\"https://www.youtube.com/watch?v=cxYlEQtJDE8&t=1s=YOUTUBE_VIDEO_ID_HERE\n\" target=\"_blank\"><img src=\"http://img.youtube.com/vi/YOUTUBE_VIDEO_ID_HERE/0.jpg\" \nalt=\"IMAGE ALT TEXT HERE\" width=\"240\" height=\"180\" border=\"10\" /></a>\n\n| Name          | Gpa           |\n| ------------- |:-------------:|\n| Eslam         | 3.27          |\n| Reda          | 3.4           | \n\n\nIBM\n\n___\n\nGoogle",
      "metadata": {}
    }
  ]
}